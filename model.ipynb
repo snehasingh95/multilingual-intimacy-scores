{
 "cells": [
  {
   "cell_type": "code",
   "execution_count": 1,
   "id": "c192cae6",
   "metadata": {},
   "outputs": [
    {
     "name": "stderr",
     "output_type": "stream",
     "text": [
      "C:\\Users\\avdhi\\AppData\\Local\\Programs\\Python\\Python310\\lib\\site-packages\\tqdm\\auto.py:22: TqdmWarning: IProgress not found. Please update jupyter and ipywidgets. See https://ipywidgets.readthedocs.io/en/stable/user_install.html\n",
      "  from .autonotebook import tqdm as notebook_tqdm\n",
      "C:\\Users\\avdhi\\AppData\\Local\\Programs\\Python\\Python310\\lib\\site-packages\\torch\\_utils.py:146: UserWarning: Failed to initialize NumPy: module compiled against API version 0x10 but this version of numpy is 0xf (Triggered internally at ..\\torch\\csrc\\utils\\tensor_numpy.cpp:77.)\n",
      "  t = torch.tensor([], dtype=storage.dtype, device=storage.untyped().device)\n",
      "Some weights of the model checkpoint at pedropei/question-intimacy were not used when initializing RobertaForSequenceClassification: ['roberta.pooler.dense.bias', 'roberta.pooler.dense.weight']\n",
      "- This IS expected if you are initializing RobertaForSequenceClassification from the checkpoint of a model trained on another task or with another architecture (e.g. initializing a BertForSequenceClassification model from a BertForPreTraining model).\n",
      "- This IS NOT expected if you are initializing RobertaForSequenceClassification from the checkpoint of a model that you expect to be exactly identical (initializing a BertForSequenceClassification model from a BertForSequenceClassification model).\n"
     ]
    },
    {
     "name": "stdout",
     "output_type": "stream",
     "text": [
      "SequenceClassifierOutput(loss=None, logits=tensor([[0.3309]], grad_fn=<AddmmBackward0>), hidden_states=None, attentions=None)\n",
      "SequenceClassifierOutput(loss=None, logits=tensor([[-0.3655]], grad_fn=<AddmmBackward0>), hidden_states=None, attentions=None)\n",
      "SequenceClassifierOutput(loss=None, logits=tensor([[0.4569]], grad_fn=<AddmmBackward0>), hidden_states=None, attentions=None)\n",
      "SequenceClassifierOutput(loss=None, logits=tensor([[0.4109]], grad_fn=<AddmmBackward0>), hidden_states=None, attentions=None)\n"
     ]
    }
   ],
   "source": [
    "# Import generic wrappers\n",
    "from transformers import AutoModelForSequenceClassification, AutoTokenizer \n",
    "\n",
    "\n",
    "# Define the model repo\n",
    "model_name = \"pedropei/question-intimacy\" \n",
    "\n",
    "\n",
    "# Download pytorch model\n",
    "model = AutoModelForSequenceClassification.from_pretrained(model_name)\n",
    "tokenizer = AutoTokenizer.from_pretrained(model_name)\n",
    "\n",
    "\n",
    "inputs = [\"Whats one question you hate being asked?\", \n",
    "          \"How important is aerodynamics in outer space?\", \n",
    "          \"What is the best way to get them to have analsecks?\", \n",
    "          \"What is love when you're at the age of 11?\"]\n",
    "\n",
    "\n",
    "for i in inputs:\n",
    "    # Transform input tokens \n",
    "    t = tokenizer(i, return_tensors=\"pt\")\n",
    "    \n",
    "    # Model apply\n",
    "    output = model(**t)\n",
    "    \n",
    "    print(output)"
   ]
  },
  {
   "cell_type": "code",
   "execution_count": 2,
   "id": "3b258699",
   "metadata": {},
   "outputs": [
    {
     "name": "stderr",
     "output_type": "stream",
     "text": [
      "C:\\Users\\avdhi\\AppData\\Local\\Programs\\Python\\Python310\\lib\\site-packages\\transformers\\models\\marian\\tokenization_marian.py:194: UserWarning: Recommended: pip install sacremoses.\n",
      "  warnings.warn(\"Recommended: pip install sacremoses.\")\n"
     ]
    },
    {
     "name": "stdout",
     "output_type": "stream",
     "text": [
      "[\"What's the question you hate being asked?\", 'What is the importance of aerodynamics in space?', \"What's the best way to make them have analsecks?\", 'What is 11-year-old love?']\n"
     ]
    }
   ],
   "source": [
    "# language translation\n",
    "\n",
    "from transformers import pipeline\n",
    "\n",
    "model_checkpoint = \"Helsinki-NLP/opus-mt-fr-en\"\n",
    "translator = pipeline(\"translation\", model=model_checkpoint)\n",
    "\n",
    "inputs_fr = [\"Quelle est la question que vous détestez qu'on vous pose ?\", \n",
    "             \"Quelle est l'importance de l'aérodynamique dans l'espace ?\", \n",
    "             \"Quelle est la meilleure façon de leur faire avoir des analsecks ?\", \n",
    "             \"Qu'est-ce que l'amour à 11 ans ?\"]\n",
    "\n",
    "inputs = []\n",
    "\n",
    "\n",
    "for i_fr in inputs_fr:\n",
    "    inp = translator(i_fr)\n",
    "    \n",
    "    inp = inp[0]['translation_text']\n",
    "    \n",
    "    inputs.append(inp)\n",
    "    \n",
    "print(inputs)"
   ]
  },
  {
   "cell_type": "code",
   "execution_count": 3,
   "id": "72338952",
   "metadata": {},
   "outputs": [
    {
     "name": "stderr",
     "output_type": "stream",
     "text": [
      "Some weights of the model checkpoint at pedropei/question-intimacy were not used when initializing RobertaForSequenceClassification: ['roberta.pooler.dense.bias', 'roberta.pooler.dense.weight']\n",
      "- This IS expected if you are initializing RobertaForSequenceClassification from the checkpoint of a model trained on another task or with another architecture (e.g. initializing a BertForSequenceClassification model from a BertForPreTraining model).\n",
      "- This IS NOT expected if you are initializing RobertaForSequenceClassification from the checkpoint of a model that you expect to be exactly identical (initializing a BertForSequenceClassification model from a BertForSequenceClassification model).\n"
     ]
    },
    {
     "name": "stdout",
     "output_type": "stream",
     "text": [
      "SequenceClassifierOutput(loss=None, logits=tensor([[0.3050]], grad_fn=<AddmmBackward0>), hidden_states=None, attentions=None)\n",
      "SequenceClassifierOutput(loss=None, logits=tensor([[-0.2923]], grad_fn=<AddmmBackward0>), hidden_states=None, attentions=None)\n",
      "SequenceClassifierOutput(loss=None, logits=tensor([[0.4564]], grad_fn=<AddmmBackward0>), hidden_states=None, attentions=None)\n",
      "SequenceClassifierOutput(loss=None, logits=tensor([[0.3080]], grad_fn=<AddmmBackward0>), hidden_states=None, attentions=None)\n"
     ]
    }
   ],
   "source": [
    "# quantifying intimacy score\n",
    "\n",
    "# Import generic wrappers\n",
    "from transformers import AutoModelForSequenceClassification, AutoTokenizer \n",
    "\n",
    "\n",
    "# Define the model repo\n",
    "model_name = \"pedropei/question-intimacy\" \n",
    "\n",
    "\n",
    "# Download pytorch model\n",
    "model = AutoModelForSequenceClassification.from_pretrained(model_name)\n",
    "tokenizer = AutoTokenizer.from_pretrained(model_name)\n",
    "\n",
    "\n",
    "for i in inputs:\n",
    "    # Transform input tokens \n",
    "    t = tokenizer(i, return_tensors=\"pt\")\n",
    "    \n",
    "    # Model apply\n",
    "    output = model(**t)\n",
    "    \n",
    "    print(output)"
   ]
  },
  {
   "cell_type": "code",
   "execution_count": null,
   "id": "12bef6a6",
   "metadata": {},
   "outputs": [],
   "source": []
  }
 ],
 "metadata": {
  "kernelspec": {
   "display_name": "Python 3 (ipykernel)",
   "language": "python",
   "name": "python3"
  },
  "language_info": {
   "codemirror_mode": {
    "name": "ipython",
    "version": 3
   },
   "file_extension": ".py",
   "mimetype": "text/x-python",
   "name": "python",
   "nbconvert_exporter": "python",
   "pygments_lexer": "ipython3",
   "version": "3.10.0"
  }
 },
 "nbformat": 4,
 "nbformat_minor": 5
}
