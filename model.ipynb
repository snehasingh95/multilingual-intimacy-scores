{
 "cells": [
  {
   "cell_type": "code",
   "execution_count": 1,
   "id": "3b258699",
   "metadata": {},
   "outputs": [
    {
     "name": "stderr",
     "output_type": "stream",
     "text": [
      "C:\\Users\\avdhi\\AppData\\Local\\Programs\\Python\\Python310\\lib\\site-packages\\tqdm\\auto.py:22: TqdmWarning: IProgress not found. Please update jupyter and ipywidgets. See https://ipywidgets.readthedocs.io/en/stable/user_install.html\n",
      "  from .autonotebook import tqdm as notebook_tqdm\n"
     ]
    }
   ],
   "source": [
    "# language translation\n",
    "\n",
    "from transformers import pipeline\n",
    "from tqdm import tqdm\n",
    "\n",
    "def translation(inputs_fr):\n",
    "    model_checkpoint = \"Helsinki-NLP/opus-mt-fr-en\"\n",
    "    translator = pipeline(\"translation\", model=model_checkpoint)\n",
    "\n",
    "    inputs = []\n",
    "    for i_fr in tqdm(inputs_fr):\n",
    "        inp = translator(i_fr)\n",
    "\n",
    "        inp = inp[0]['translation_text']\n",
    "\n",
    "        inputs.append(inp)\n",
    "    \n",
    "    return inputs"
   ]
  },
  {
   "cell_type": "code",
   "execution_count": 11,
   "id": "72338952",
   "metadata": {},
   "outputs": [],
   "source": [
    "# quantifying intimacy score\n",
    "\n",
    "# Import generic wrappers\n",
    "from transformers import AutoModelForSequenceClassification, AutoTokenizer \n",
    "import torch\n",
    "\n",
    "def calculate_intimacy_score(inputs, label=None):\n",
    "    # Define the model repo\n",
    "    model_name = \"pedropei/question-intimacy\" \n",
    "\n",
    "\n",
    "    # Download pytorch model\n",
    "    model = AutoModelForSequenceClassification.from_pretrained(model_name)\n",
    "    tokenizer = AutoTokenizer.from_pretrained(model_name, add_prefix_space=True)\n",
    "    # list of strings should be pretokenized\n",
    "    # add_prefix_space needed for pretokenized\n",
    "    \n",
    "    t = tokenizer(inputs, return_tensors=\"pt\", is_split_into_words=True,\n",
    "                 padding=True, truncation=True, max_length=50, add_special_tokens=True)\n",
    "    if label:\n",
    "        labels = torch.tensor(label).unsqueeze(0)\n",
    "        # Model apply\n",
    "        output = model(**t, labels=labels)\n",
    "    \n",
    "    else:\n",
    "        output = model(**t)\n",
    "\n",
    "    return output"
   ]
  },
  {
   "cell_type": "code",
   "execution_count": null,
   "id": "6d8e5b69",
   "metadata": {},
   "outputs": [],
   "source": [
    "inputs_fr = [\"Quelle est la question que vous détestez qu'on vous pose ?\", \n",
    "             \"Quelle est l'importance de l'aérodynamique dans l'espace ?\", \n",
    "             \"Quelle est la meilleure façon de leur faire avoir des analsecks ?\", \n",
    "             \"Qu'est-ce que l'amour à 11 ans ?\"]\n",
    "\n",
    "labels = [0.517, -0.421, 0.4999, 0.514]\n",
    "\n",
    "inp_en = translation(inputs_fr)\n",
    "print(inp_en)\n",
    "\n",
    "score = calculate_intimacy_score(inp_en, labels)\n",
    "print(score)"
   ]
  },
  {
   "cell_type": "code",
   "execution_count": 4,
   "id": "66bd6acd",
   "metadata": {
    "scrolled": true
   },
   "outputs": [
    {
     "name": "stdout",
     "output_type": "stream",
     "text": [
      "importing Jupyter notebook from load_data.ipynb\n"
     ]
    },
    {
     "name": "stderr",
     "output_type": "stream",
     "text": [
      "Using custom data configuration data-05d203ae109cc829\n",
      "Found cached dataset csv (C:/Users/avdhi/.cache/huggingface/datasets/csv/data-05d203ae109cc829/0.0.0/6b34fb8fcf56f7c8ba51dc895bfa2bfbe43546f190a60fcf74bb5e8afdcc2317)\n",
      "100%|███████████████████████████████████████████████████████████████████████████████████| 1/1 [00:00<00:00, 124.47it/s]\n"
     ]
    },
    {
     "name": "stdout",
     "output_type": "stream",
     "text": [
      "English\n",
      "Folding...\n",
      "Fold 1 : 793 data\n",
      "Fold 2 : 794 data\n",
      "Split 1 - Training Data: 793 - Validation Data: 793\n",
      "Split 2 - Training Data: 794 - Validation Data: 794\n",
      "\n",
      "French\n"
     ]
    },
    {
     "name": "stderr",
     "output_type": "stream",
     "text": [
      "Using custom data configuration data-05d203ae109cc829\n",
      "Found cached dataset csv (C:/Users/avdhi/.cache/huggingface/datasets/csv/data-05d203ae109cc829/0.0.0/6b34fb8fcf56f7c8ba51dc895bfa2bfbe43546f190a60fcf74bb5e8afdcc2317)\n"
     ]
    },
    {
     "name": "stdout",
     "output_type": "stream",
     "text": [
      "Folding...\n",
      "Fold 1 : 794 data\n",
      "Fold 2 : 794 data\n",
      "Split 1 - Training Data: 794 - Validation Data: 794\n",
      "Split 2 - Training Data: 794 - Validation Data: 794\n"
     ]
    },
    {
     "name": "stderr",
     "output_type": "stream",
     "text": [
      "100%|███████████████████████████████████████████████████████████████████████████████████| 1/1 [00:00<00:00, 124.33it/s]"
     ]
    },
    {
     "name": "stdout",
     "output_type": "stream",
     "text": [
      "English\n"
     ]
    },
    {
     "name": "stderr",
     "output_type": "stream",
     "text": [
      "\n"
     ]
    },
    {
     "name": "stdout",
     "output_type": "stream",
     "text": [
      "\n",
      "French\n",
      "Folding...\n",
      "Fold 1 : 158 data\n",
      "Fold 2 : 158 data\n",
      "Fold 3 : 158 data\n",
      "Fold 4 : 158 data\n",
      "Fold 5 : 158 data\n",
      "Fold 6 : 158 data\n",
      "Fold 7 : 158 data\n",
      "Fold 8 : 158 data\n",
      "Fold 9 : 158 data\n",
      "Fold 10 : 166 data\n",
      "Translating French to English\n"
     ]
    },
    {
     "name": "stderr",
     "output_type": "stream",
     "text": [
      "C:\\Users\\avdhi\\AppData\\Local\\Programs\\Python\\Python310\\lib\\site-packages\\transformers\\models\\marian\\tokenization_marian.py:194: UserWarning: Recommended: pip install sacremoses.\n",
      "  warnings.warn(\"Recommended: pip install sacremoses.\")\n",
      "100%|████████████████████████████████████████████████████████████████████████████████| 158/158 [03:14<00:00,  1.23s/it]\n",
      "100%|████████████████████████████████████████████████████████████████████████████████| 158/158 [03:30<00:00,  1.33s/it]\n",
      "100%|████████████████████████████████████████████████████████████████████████████████| 158/158 [04:28<00:00,  1.70s/it]\n",
      "100%|████████████████████████████████████████████████████████████████████████████████| 158/158 [04:33<00:00,  1.73s/it]\n",
      "100%|████████████████████████████████████████████████████████████████████████████████| 158/158 [03:18<00:00,  1.26s/it]\n",
      "100%|████████████████████████████████████████████████████████████████████████████████| 158/158 [04:19<00:00,  1.64s/it]\n",
      "100%|████████████████████████████████████████████████████████████████████████████████| 158/158 [03:10<00:00,  1.21s/it]\n",
      "100%|████████████████████████████████████████████████████████████████████████████████| 158/158 [03:32<00:00,  1.35s/it]\n",
      "100%|████████████████████████████████████████████████████████████████████████████████| 158/158 [03:50<00:00,  1.46s/it]\n",
      "100%|████████████████████████████████████████████████████████████████████████████████| 166/166 [04:44<00:00,  1.72s/it]\n"
     ]
    },
    {
     "name": "stdout",
     "output_type": "stream",
     "text": [
      "text: 3175\n",
      "Train_label: 3175\n"
     ]
    },
    {
     "ename": "NameError",
     "evalue": "name 'np' is not defined",
     "output_type": "error",
     "traceback": [
      "\u001b[1;31m---------------------------------------------------------------------------\u001b[0m",
      "\u001b[1;31mNameError\u001b[0m                                 Traceback (most recent call last)",
      "Input \u001b[1;32mIn [4]\u001b[0m, in \u001b[0;36m<module>\u001b[1;34m\u001b[0m\n\u001b[0;32m     29\u001b[0m \u001b[38;5;28mprint\u001b[39m(\u001b[38;5;124m'\u001b[39m\u001b[38;5;124mTrain_label:\u001b[39m\u001b[38;5;124m'\u001b[39m,\u001b[38;5;28mlen\u001b[39m(label))\n\u001b[0;32m     31\u001b[0m \u001b[38;5;66;03m#Shuffle \u001b[39;00m\n\u001b[1;32m---> 32\u001b[0m text, label \u001b[38;5;241m=\u001b[39m \u001b[43mshuffle_data\u001b[49m\u001b[43m(\u001b[49m\u001b[43mtext\u001b[49m\u001b[43m,\u001b[49m\u001b[43m \u001b[49m\u001b[43mlabel\u001b[49m\u001b[43m)\u001b[49m\n\u001b[0;32m     34\u001b[0m \u001b[38;5;28mprint\u001b[39m(\u001b[38;5;124m\"\u001b[39m\u001b[38;5;124mPredicting Intimacy Scores\u001b[39m\u001b[38;5;124m\"\u001b[39m)\n\u001b[0;32m     35\u001b[0m score \u001b[38;5;241m=\u001b[39m calculate_intimacy_score(text, label)\n",
      "File \u001b[1;32m<string>:2\u001b[0m, in \u001b[0;36mshuffle_data\u001b[1;34m(text, label)\u001b[0m\n",
      "\u001b[1;31mNameError\u001b[0m: name 'np' is not defined"
     ]
    }
   ],
   "source": [
    "import import_ipynb\n",
    "from load_data import load_data, getLanguageData, k_folds, k_fold_split, shuffle_data\n",
    "\n",
    "k=10\n",
    "\n",
    "raw_data = load_data(\"data\", \"train_copy.csv\")['train']\n",
    "\n",
    "#English\n",
    "print('English')\n",
    "en_text, en_label = getLanguageData(raw_data, 'English')\n",
    "\n",
    "#French\n",
    "print('\\nFrench')\n",
    "fr_text, fr_label = getLanguageData(raw_data, 'French')\n",
    "fr_text_folds,fr_label_folds = k_folds(k, [fr_text], [fr_label])\n",
    "\n",
    "#translation\n",
    "text = en_text\n",
    "label = en_label\n",
    "print(\"Translating French to English\")\n",
    "for i in range(k):\n",
    "    translated_text = translation(fr_text_folds[i])\n",
    "    text.extend(translated_text)\n",
    "    label.extend(fr_label_folds[i])\n",
    "print('text:',len(text))\n",
    "\n",
    "# label = en_label\n",
    "# label.extend(fr_label)\n",
    "print('Train_label:',len(label))\n",
    "\n",
    "#Shuffle \n",
    "text, label = shuffle_data(text, label)\n",
    "\n",
    "print(\"Predicting Intimacy Scores\")\n",
    "score = calculate_intimacy_score(text, label)\n",
    "print(score)"
   ]
  },
  {
   "cell_type": "code",
   "execution_count": 12,
   "id": "1b2e9096",
   "metadata": {},
   "outputs": [
    {
     "name": "stdout",
     "output_type": "stream",
     "text": [
      "Predicting Intimacy Scores\n"
     ]
    },
    {
     "name": "stderr",
     "output_type": "stream",
     "text": [
      "Some weights of the model checkpoint at pedropei/question-intimacy were not used when initializing RobertaForSequenceClassification: ['roberta.pooler.dense.weight', 'roberta.pooler.dense.bias']\n",
      "- This IS expected if you are initializing RobertaForSequenceClassification from the checkpoint of a model trained on another task or with another architecture (e.g. initializing a BertForSequenceClassification model from a BertForPreTraining model).\n",
      "- This IS NOT expected if you are initializing RobertaForSequenceClassification from the checkpoint of a model that you expect to be exactly identical (initializing a BertForSequenceClassification model from a BertForSequenceClassification model).\n"
     ]
    },
    {
     "name": "stdout",
     "output_type": "stream",
     "text": [
      "SequenceClassifierOutput(loss=tensor(0.1255, grad_fn=<MseLossBackward0>), logits=tensor([[-0.2155]], grad_fn=<AddmmBackward0>), hidden_states=None, attentions=None)\n"
     ]
    },
    {
     "name": "stderr",
     "output_type": "stream",
     "text": [
      "C:\\Users\\avdhi\\AppData\\Local\\Programs\\Python\\Python310\\lib\\site-packages\\torch\\nn\\modules\\loss.py:536: UserWarning: Using a target size (torch.Size([3175])) that is different to the input size (torch.Size([])). This will likely lead to incorrect results due to broadcasting. Please ensure they have the same size.\n",
      "  return F.mse_loss(input, target, reduction=self.reduction)\n"
     ]
    }
   ],
   "source": [
    "import numpy as np\n",
    "\n",
    "#Shuffle \n",
    "# text, label = shuffle_data(text, label)\n",
    "\n",
    "print(\"Predicting Intimacy Scores\")\n",
    "score = calculate_intimacy_score(text, label)\n",
    "print(score)"
   ]
  },
  {
   "cell_type": "code",
   "execution_count": 14,
   "id": "4cb1be0f",
   "metadata": {},
   "outputs": [
    {
     "ename": "NameError",
     "evalue": "name 'np' is not defined",
     "output_type": "error",
     "traceback": [
      "\u001b[1;31m---------------------------------------------------------------------------\u001b[0m",
      "\u001b[1;31mNameError\u001b[0m                                 Traceback (most recent call last)",
      "Input \u001b[1;32mIn [14]\u001b[0m, in \u001b[0;36m<module>\u001b[1;34m\u001b[0m\n\u001b[0;32m      2\u001b[0m \u001b[38;5;28;01mfrom\u001b[39;00m \u001b[38;5;21;01mload_data\u001b[39;00m \u001b[38;5;28;01mimport\u001b[39;00m load_data, getLanguageData, k_folds, k_fold_split, shuffle_data\n\u001b[0;32m      4\u001b[0m \u001b[38;5;66;03m#Shuffle \u001b[39;00m\n\u001b[1;32m----> 5\u001b[0m text, label \u001b[38;5;241m=\u001b[39m \u001b[43mshuffle_data\u001b[49m\u001b[43m(\u001b[49m\u001b[43mtext\u001b[49m\u001b[43m,\u001b[49m\u001b[43m \u001b[49m\u001b[43mlabel\u001b[49m\u001b[43m)\u001b[49m\n\u001b[0;32m      7\u001b[0m \u001b[38;5;28mprint\u001b[39m(\u001b[38;5;124m\"\u001b[39m\u001b[38;5;124mPredicting Intimacy Scores\u001b[39m\u001b[38;5;124m\"\u001b[39m)\n\u001b[0;32m      8\u001b[0m score \u001b[38;5;241m=\u001b[39m calculate_intimacy_score(text, label)\n",
      "File \u001b[1;32m<string>:2\u001b[0m, in \u001b[0;36mshuffle_data\u001b[1;34m(text, label)\u001b[0m\n",
      "\u001b[1;31mNameError\u001b[0m: name 'np' is not defined"
     ]
    }
   ],
   "source": [
    "import import_ipynb\n",
    "from load_data import load_data, getLanguageData, k_folds, k_fold_split, shuffle_data\n",
    "\n",
    "#Shuffle \n",
    "text, label = shuffle_data(text, label)\n",
    "\n",
    "print(\"Predicting Intimacy Scores\")\n",
    "score = calculate_intimacy_score(text, label)\n",
    "print(score)"
   ]
  },
  {
   "cell_type": "code",
   "execution_count": null,
   "id": "4cd2b81c",
   "metadata": {},
   "outputs": [],
   "source": []
  }
 ],
 "metadata": {
  "kernelspec": {
   "display_name": "Python 3 (ipykernel)",
   "language": "python",
   "name": "python3"
  },
  "language_info": {
   "codemirror_mode": {
    "name": "ipython",
    "version": 3
   },
   "file_extension": ".py",
   "mimetype": "text/x-python",
   "name": "python",
   "nbconvert_exporter": "python",
   "pygments_lexer": "ipython3",
   "version": "3.10.0"
  }
 },
 "nbformat": 4,
 "nbformat_minor": 5
}
