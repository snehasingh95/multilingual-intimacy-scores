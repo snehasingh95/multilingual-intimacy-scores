{
 "cells": [
  {
   "cell_type": "code",
   "execution_count": 1,
   "id": "5366b453",
   "metadata": {},
   "outputs": [],
   "source": [
    "from datasets import load_dataset\n",
    "from random import shuffle\n",
    "\n",
    "def load_data(data_dir, file):\n",
    "    return load_dataset(data_dir, data_files=file)   \n",
    "\n",
    "def getLanguageData(raw_data, lang):\n",
    "    idx_list = [idx for idx, val in enumerate(raw_data) if val['language'] == lang]\n",
    "\n",
    "    #shuffle the data\n",
    "    shuffle(idx_list)\n",
    "    \n",
    "    # data = [{\n",
    "    #     'text': raw_data[idx]['text'],\n",
    "    #     'label': raw_data[idx]['normalized label'] \n",
    "    #     }\n",
    "    #     for idx in idx_list]\n",
    "\n",
    "    input_text = [raw_data[idx]['text'] for idx in idx_list]\n",
    "    label = [raw_data[idx]['normalized label'] for idx in idx_list]\n",
    "    \n",
    "    assert len(input_text) == len(label)\n",
    "\n",
    "    return input_text, label"
   ]
  },
  {
   "cell_type": "code",
   "execution_count": 2,
   "id": "b08ea943",
   "metadata": {},
   "outputs": [],
   "source": [
    "def k_folds(k, text, label):\n",
    "    text_folds = [[] for i in range(k)]\n",
    "    label_folds = [[] for i in range(k)]\n",
    "    n_language = len(text)\n",
    "    \n",
    "    print('Folding...')\n",
    "    for lang_indx in range(n_language):\n",
    "        lang_text = text[lang_indx]\n",
    "        lang_label = label[lang_indx]\n",
    "        \n",
    "        size = len(lang_text)//k\n",
    "        split=[]\n",
    "        for i in range(k):\n",
    "            split.append(i*size)\n",
    "        if split[-1]!=len(lang_text):\n",
    "            split.append(len(lang_text))\n",
    "#         print(split)\n",
    "            \n",
    "        for i in range(k):\n",
    "            text_folds[i].extend(lang_text[split[i]:split[i+1]])\n",
    "            label_folds[i].extend(lang_text[split[i]:split[i+1]])\n",
    "            \n",
    "    for i in range(k):\n",
    "        print('Fold',i+1,':',len(text_folds[i]),'data')\n",
    "            \n",
    "    return text_folds,label_folds"
   ]
  },
  {
   "cell_type": "code",
   "execution_count": 3,
   "id": "4a92f867",
   "metadata": {},
   "outputs": [],
   "source": [
    "def k_fold_split(k, text_folds,label_folds):\n",
    "    train_text = []\n",
    "    train_label = []\n",
    "    validate_text = []\n",
    "    validate_label = []\n",
    "    \n",
    "    for i in range(k):\n",
    "        validate_text.append(text_folds[i])\n",
    "        validate_label.append(label_folds[i])\n",
    "        \n",
    "        text =[]\n",
    "        label=[]\n",
    "        for j in range(k):\n",
    "            if(i!=j):\n",
    "                text.extend(text_folds[i])\n",
    "                label.extend(label_folds[i])\n",
    "                \n",
    "        train_text.append(text)\n",
    "        train_label.append(label)\n",
    "        \n",
    "        print(\"Split\",i+1,\"- Training Data:\",len(train_text[i]),\"- Validation Data:\",len(validate_text[i]))\n",
    "        \n",
    "    return train_text,train_label,validate_text,validate_label\n",
    "        "
   ]
  },
  {
   "cell_type": "code",
   "execution_count": 4,
   "id": "f3d8e6fe",
   "metadata": {},
   "outputs": [
    {
     "name": "stderr",
     "output_type": "stream",
     "text": [
      "Using custom data configuration data-8cd117a638af0d0f\n",
      "Found cached dataset csv (/Users/snehasingh/.cache/huggingface/datasets/csv/data-8cd117a638af0d0f/0.0.0/6b34fb8fcf56f7c8ba51dc895bfa2bfbe43546f190a60fcf74bb5e8afdcc2317)\n"
     ]
    },
    {
     "data": {
      "application/json": {
       "ascii": false,
       "bar_format": null,
       "colour": null,
       "elapsed": 0.06943726539611816,
       "initial": 0,
       "n": 0,
       "ncols": null,
       "nrows": 24,
       "postfix": null,
       "prefix": "",
       "rate": null,
       "total": 1,
       "unit": "it",
       "unit_divisor": 1000,
       "unit_scale": false
      },
      "application/vnd.jupyter.widget-view+json": {
       "model_id": "665aef280b5b48a7bbe5a286df3e3e5f",
       "version_major": 2,
       "version_minor": 0
      },
      "text/plain": [
       "  0%|          | 0/1 [00:00<?, ?it/s]"
      ]
     },
     "metadata": {},
     "output_type": "display_data"
    },
    {
     "name": "stdout",
     "output_type": "stream",
     "text": [
      "English\n",
      "Folding...\n",
      "Fold 1 : 158 data\n",
      "Fold 2 : 158 data\n",
      "Fold 3 : 158 data\n",
      "Fold 4 : 158 data\n",
      "Fold 5 : 158 data\n",
      "Fold 6 : 158 data\n",
      "Fold 7 : 158 data\n",
      "Fold 8 : 158 data\n",
      "Fold 9 : 158 data\n",
      "Fold 10 : 165 data\n",
      "Split 1 - Training Data: 1422 - Validation Data: 158\n",
      "Split 2 - Training Data: 1422 - Validation Data: 158\n",
      "Split 3 - Training Data: 1422 - Validation Data: 158\n",
      "Split 4 - Training Data: 1422 - Validation Data: 158\n",
      "Split 5 - Training Data: 1422 - Validation Data: 158\n",
      "Split 6 - Training Data: 1422 - Validation Data: 158\n",
      "Split 7 - Training Data: 1422 - Validation Data: 158\n",
      "Split 8 - Training Data: 1422 - Validation Data: 158\n",
      "Split 9 - Training Data: 1422 - Validation Data: 158\n",
      "Split 10 - Training Data: 1485 - Validation Data: 165\n",
      "\n",
      "French\n",
      "Folding...\n",
      "Fold 1 : 158 data\n",
      "Fold 2 : 158 data\n",
      "Fold 3 : 158 data\n",
      "Fold 4 : 158 data\n",
      "Fold 5 : 158 data\n",
      "Fold 6 : 158 data\n",
      "Fold 7 : 158 data\n",
      "Fold 8 : 158 data\n",
      "Fold 9 : 158 data\n",
      "Fold 10 : 166 data\n",
      "Split 1 - Training Data: 1422 - Validation Data: 158\n",
      "Split 2 - Training Data: 1422 - Validation Data: 158\n",
      "Split 3 - Training Data: 1422 - Validation Data: 158\n",
      "Split 4 - Training Data: 1422 - Validation Data: 158\n",
      "Split 5 - Training Data: 1422 - Validation Data: 158\n",
      "Split 6 - Training Data: 1422 - Validation Data: 158\n",
      "Split 7 - Training Data: 1422 - Validation Data: 158\n",
      "Split 8 - Training Data: 1422 - Validation Data: 158\n",
      "Split 9 - Training Data: 1422 - Validation Data: 158\n",
      "Split 10 - Training Data: 1494 - Validation Data: 166\n"
     ]
    }
   ],
   "source": [
    "raw_data = load_data(\"data\", \"train_copy.csv\")['train']\n",
    "\n",
    "# #English\n",
    "# en_text, en_label = getLanguageData(raw_data, 'English')\n",
    "# #French\n",
    "# fr_text, fr_label = getLanguageData(raw_data, 'French')\n",
    "# text_folds,label_folds = k_folds(10, {0:en_text,1:fr_text}, {0:en_label,1:fr_label})\n",
    "# train_text,train_label,validate_text,validate_label = k_fold_split(10, text_folds,label_folds)\n",
    "\n",
    "#English\n",
    "print('English')\n",
    "en_text, en_label = getLanguageData(raw_data, 'English')\n",
    "en_text_folds,en_label_folds = k_folds(10, [en_text], [en_label])\n",
    "en_train_text,en_train_label,en_validate_text,en_validate_label = k_fold_split(10, en_text_folds,en_label_folds)\n",
    "\n",
    "#French\n",
    "print('\\nFrench')\n",
    "fr_text, fr_label = getLanguageData(raw_data, 'French')\n",
    "fr_text_folds,fr_label_folds = k_folds(10, [fr_text], [fr_label])\n",
    "fr_train_text,fr_train_label,fr_validate_text,fr_validate_label = k_fold_split(10, fr_text_folds,fr_label_folds)\n",
    "# print(text_folds,label_folds)"
   ]
  },
  {
   "cell_type": "code",
   "execution_count": null,
   "id": "2a39c37e",
   "metadata": {},
   "outputs": [],
   "source": [
    "import import_ipynb\n",
    "from model import translation, calculate_intimacy_score\n",
    "\n",
    "train_text = en_train_text\n",
    "print(\"Translating French to English\")\n",
    "train_text.extend(translation(fr_train_text))\n",
    "print(train_text)\n",
    "\n",
    "train_label = en_train_label\n",
    "train_label.extend(fr_train_label)\n",
    "\n",
    "print(\"Predicting Intimacy Scores\")\n",
    "score = calculate_intimacy_score(train_text, train_label)\n",
    "print(score)"
   ]
  },
  {
   "cell_type": "code",
   "execution_count": null,
   "id": "7c13cf65",
   "metadata": {},
   "outputs": [],
   "source": []
  }
 ],
 "metadata": {
  "kernelspec": {
   "display_name": "Python 3 (ipykernel)",
   "language": "python",
   "name": "python3"
  },
  "language_info": {
   "codemirror_mode": {
    "name": "ipython",
    "version": 3
   },
   "file_extension": ".py",
   "mimetype": "text/x-python",
   "name": "python",
   "nbconvert_exporter": "python",
   "pygments_lexer": "ipython3",
   "version": "3.8.9"
  }
 },
 "nbformat": 4,
 "nbformat_minor": 5
}
