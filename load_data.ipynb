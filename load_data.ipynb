{
 "cells": [
  {
   "cell_type": "code",
   "execution_count": 1,
   "id": "5366b453",
   "metadata": {},
   "outputs": [
    {
     "name": "stderr",
     "output_type": "stream",
     "text": [
      "C:\\Users\\avdhi\\AppData\\Local\\Programs\\Python\\Python310\\lib\\site-packages\\tqdm\\auto.py:22: TqdmWarning: IProgress not found. Please update jupyter and ipywidgets. See https://ipywidgets.readthedocs.io/en/stable/user_install.html\n",
      "  from .autonotebook import tqdm as notebook_tqdm\n"
     ]
    }
   ],
   "source": [
    "from datasets import load_dataset\n",
    "from random import shuffle\n",
    "\n",
    "def load_data(data_dir, file):\n",
    "    return load_dataset(data_dir, data_files=file)   \n",
    "\n",
    "def getLanguageData(raw_data, lang):\n",
    "    idx_list = [idx for idx, val in enumerate(raw_data) if val['language'] == lang]\n",
    "\n",
    "    #shuffle the data\n",
    "    shuffle(idx_list)\n",
    "    \n",
    "    # data = [{\n",
    "    #     'text': raw_data[idx]['text'],\n",
    "    #     'label': raw_data[idx]['normalized label'] \n",
    "    #     }\n",
    "    #     for idx in idx_list]\n",
    "\n",
    "    input_text = [raw_data[idx]['text'] for idx in idx_list]\n",
    "    label = [raw_data[idx]['normalized label'] for idx in idx_list]\n",
    "    \n",
    "    assert len(input_text) == len(label)\n",
    "\n",
    "    return input_text, label"
   ]
  },
  {
   "cell_type": "code",
   "execution_count": 2,
   "id": "b08ea943",
   "metadata": {},
   "outputs": [],
   "source": [
    "def k_folds(k, text, label):\n",
    "    text_folds = [[] for i in range(k)]\n",
    "    label_folds = [[] for i in range(k)]\n",
    "    n_language = len(text)\n",
    "    \n",
    "    print('Folding...')\n",
    "    for lang_indx in range(n_language):\n",
    "        lang_text = text[lang_indx]\n",
    "        lang_label = label[lang_indx]\n",
    "        \n",
    "        size = len(lang_text)//k\n",
    "        split=[]\n",
    "        for i in range(k):\n",
    "            split.append(i*size)\n",
    "        if split[-1]!=len(lang_text):\n",
    "            split.append(len(lang_text))\n",
    "#         print(split)\n",
    "            \n",
    "        for i in range(k):\n",
    "            text_folds[i].extend(lang_text[split[i]:split[i+1]])\n",
    "            label_folds[i].extend(lang_label[split[i]:split[i+1]])\n",
    "            \n",
    "    for i in range(k):\n",
    "        print('Fold',i+1,':',len(text_folds[i]),'data')\n",
    "            \n",
    "    return text_folds,label_folds"
   ]
  },
  {
   "cell_type": "code",
   "execution_count": 3,
   "id": "4a92f867",
   "metadata": {},
   "outputs": [],
   "source": [
    "def k_fold_split(k, text_folds,label_folds):\n",
    "    train_text = []\n",
    "    train_label = []\n",
    "    validate_text = []\n",
    "    validate_label = []\n",
    "    \n",
    "    for i in range(k):\n",
    "        validate_text.append(text_folds[i])\n",
    "        validate_label.append(label_folds[i])\n",
    "        \n",
    "        text =[]\n",
    "        label=[]\n",
    "        for j in range(k):\n",
    "            if(i!=j):\n",
    "                text.extend(text_folds[i])\n",
    "                label.extend(label_folds[i])\n",
    "                \n",
    "        train_text.append(text)\n",
    "        train_label.append(label)\n",
    "        \n",
    "        print(\"Split\",i+1,\"- Training Data:\",len(train_text[i]),\"- Validation Data:\",len(validate_text[i]))\n",
    "        \n",
    "    return train_text,train_label,validate_text,validate_label\n",
    "        "
   ]
  },
  {
   "cell_type": "code",
   "execution_count": 4,
   "id": "f3d8e6fe",
   "metadata": {},
   "outputs": [
    {
     "name": "stderr",
     "output_type": "stream",
     "text": [
      "Using custom data configuration data-1ba08ea01a127387\n",
      "Found cached dataset csv (C:/Users/avdhi/.cache/huggingface/datasets/csv/data-1ba08ea01a127387/0.0.0/6b34fb8fcf56f7c8ba51dc895bfa2bfbe43546f190a60fcf74bb5e8afdcc2317)\n",
      "100%|███████████████████████████████████████████████████████████████████████████████████| 1/1 [00:00<00:00, 498.79it/s]\n"
     ]
    },
    {
     "name": "stdout",
     "output_type": "stream",
     "text": [
      "English\n",
      "Folding...\n",
      "Fold 1 : 793 data\n",
      "Fold 2 : 794 data\n",
      "Split 1 - Training Data: 793 - Validation Data: 793\n",
      "Split 2 - Training Data: 794 - Validation Data: 794\n",
      "\n",
      "French\n",
      "Folding...\n",
      "Fold 1 : 794 data\n",
      "Fold 2 : 794 data\n",
      "Split 1 - Training Data: 794 - Validation Data: 794\n",
      "Split 2 - Training Data: 794 - Validation Data: 794\n"
     ]
    }
   ],
   "source": [
    "raw_data = load_data(\"data\", \"train_copy.csv\")['train']\n",
    "k=2\n",
    "\n",
    "# #English\n",
    "# en_text, en_label = getLanguageData(raw_data, 'English')\n",
    "# #French\n",
    "# fr_text, fr_label = getLanguageData(raw_data, 'French')\n",
    "# text_folds,label_folds = k_folds(10, {0:en_text,1:fr_text}, {0:en_label,1:fr_label})\n",
    "# train_text,train_label,validate_text,validate_label = k_fold_split(10, text_folds,label_folds)\n",
    "\n",
    "#English\n",
    "print('English')\n",
    "en_text, en_label = getLanguageData(raw_data, 'English')\n",
    "en_text_folds,en_label_folds = k_folds(k, [en_text], [en_label])\n",
    "en_train_text,en_train_label,en_validate_text,en_validate_label = k_fold_split(k, en_text_folds,en_label_folds)\n",
    "\n",
    "#French\n",
    "print('\\nFrench')\n",
    "fr_text, fr_label = getLanguageData(raw_data, 'French')\n",
    "fr_text_folds,fr_label_folds = k_folds(k, [fr_text], [fr_label])\n",
    "fr_train_text,fr_train_label,fr_validate_text,fr_validate_label = k_fold_split(k, fr_text_folds,fr_label_folds)\n",
    "# print(text_folds,label_folds)"
   ]
  }
 ],
 "metadata": {
  "kernelspec": {
   "display_name": "Python 3 (ipykernel)",
   "language": "python",
   "name": "python3"
  },
  "language_info": {
   "codemirror_mode": {
    "name": "ipython",
    "version": 3
   },
   "file_extension": ".py",
   "mimetype": "text/x-python",
   "name": "python",
   "nbconvert_exporter": "python",
   "pygments_lexer": "ipython3",
   "version": "3.10.0"
  }
 },
 "nbformat": 4,
 "nbformat_minor": 5
}
